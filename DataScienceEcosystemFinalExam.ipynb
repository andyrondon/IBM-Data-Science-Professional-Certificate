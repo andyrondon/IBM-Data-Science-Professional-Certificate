{
 "cells": [
  {
   "cell_type": "markdown",
   "id": "7859a2cd-af0e-4c59-822f-4d79b865ad77",
   "metadata": {
    "tags": []
   },
   "source": [
    "Exercise 2 - Create a markdown cell with the title of the notebook. (1 pt)\n",
    "\n",
    "# Data Science Ecosystem Final Exam"
   ]
  },
  {
   "cell_type": "markdown",
   "id": "b25def1a-b30c-4b37-90d2-8d07f18e63f8",
   "metadata": {},
   "source": [
    "Exercise 3 - Create a markdown cell for an introduction. (1 pt)\n",
    "\n",
    "In this notebook, Data Science Tools and Ecosystem are summarized for the final exam."
   ]
  },
  {
   "cell_type": "markdown",
   "id": "35a9f719-2c6f-4c07-a564-2145bc173fa2",
   "metadata": {},
   "source": [
    "Exercise 4 - Create a markdown cell to list data science languages. (3 pts)\n",
    "\n",
    "# Some of the popular languages that Data Scientists use are:\n",
    "\n",
    "- Python\n",
    "- R\n",
    "- SQL\n",
    "- Java\n",
    "- Scala\n",
    "- C++\n",
    "- JavaScript\n",
    "- Julia"
   ]
  },
  {
   "cell_type": "markdown",
   "id": "07bb82c0-0859-45d1-96f5-8455b297b032",
   "metadata": {
    "tags": []
   },
   "source": [
    "Exercise 5 - Create a markdown cell to list data science libraries. (3 pts)\n",
    "\n",
    "# Some of the commonly used libraries used by Data Scientists include:\n",
    "\n",
    "## Python libraries\n",
    "\n",
    "### Scientific Computing Libraries\n",
    "\n",
    "- Pandas (Data Structures & Tools).\n",
    "- NumPy (Arrays & Matrices).\n",
    "\n",
    "### Visualization Libraries\n",
    "\n",
    "- Matplotlib (Plots & Graphs).\n",
    "- Seaborn (Plots: Heat Maps, Time Series, Violin Plots).\n",
    "\n",
    "### Machine Learning and Deep Learning Libraries\n",
    "\n",
    "- Scikit-learn (Machine Learning: Regression, Classification, Clustering).\n",
    "- Keras (Deep Learning Neural Networks).\n",
    "- TensorFlow (Deep Learning: Production and Deployment).\n",
    "- PyTorch (Deep Learning: Regression, Classification)."
   ]
  },
  {
   "cell_type": "markdown",
   "id": "b380dfab-0d2c-4464-a677-e8081e6feef2",
   "metadata": {},
   "source": [
    "Exercise 6 - Create a markdown cell with a table of Data Science tools. (3 pts)\n",
    "\n",
    "| Data Science Tools |\n",
    "| -------------------|\n",
    "| MySQL |\n",
    "| PostgreSQL |\n",
    "| MongoDB |\n",
    "| CouchDB |\n",
    "| Apache Airflow |\n",
    "| Kubeflow |\n",
    "| Node-RED |\n",
    "| PixieDust |\n",
    "| HUE |\n",
    "| Kibana |\n",
    "| PredictionIO |\n",
    "| SELDON |\n",
    "| Kubernetes |\n",
    "| ModelDB |\n",
    "| Prometheus |\n",
    "| IBM Research Trusted AI |\n",
    "| GIT |\n",
    "| GitHub |\n",
    "| GitLab |\n",
    "| Apache Atlas |\n",
    "| EGERIA |\n",
    "| KYLO |"
   ]
  },
  {
   "cell_type": "markdown",
   "id": "83945f43-625a-4aa8-aa66-11991f6288bd",
   "metadata": {},
   "source": [
    "Exercise 7 - Create a markdown cell introducing arithmetic expression examples. (1 pt)\n",
    "\n",
    "Below are a few examples of evaluating arithmetic expressions in Python."
   ]
  },
  {
   "cell_type": "code",
   "execution_count": null,
   "id": "fa5b1f45-b2fc-4d29-9dd9-0b90651671d6",
   "metadata": {
    "tags": []
   },
   "outputs": [],
   "source": [
    "# Execute this cell by clicking Shift + Enter\n",
    "\n",
    "2+3"
   ]
  },
  {
   "cell_type": "markdown",
   "id": "f6dc77de-67ae-4b1a-a47b-0dd6e40c85cc",
   "metadata": {},
   "source": [
    "Exercise 8 - Create a code cell to multiply and add numbers. (2 pts)"
   ]
  },
  {
   "cell_type": "code",
   "execution_count": null,
   "id": "44eb79ad-636d-4c20-ae72-4056b280d4bd",
   "metadata": {},
   "outputs": [],
   "source": [
    "# Execute this cell by clicking Shift + Enter\n",
    "\n",
    "(20+5)*4"
   ]
  },
  {
   "cell_type": "markdown",
   "id": "90b3e6eb-d4b5-4ef8-929b-2a49842da9ad",
   "metadata": {},
   "source": [
    "Exercise 9 - Create a code cell to convert minutes to hours. (2 pts)\n",
    "\n",
    "This will convert 200 minutes to hours by diving by 60"
   ]
  },
  {
   "cell_type": "code",
   "execution_count": null,
   "id": "80d93a51-4e88-48e2-8fa3-ba019d513bef",
   "metadata": {
    "tags": []
   },
   "outputs": [],
   "source": [
    "# Execute this cell by clicking Shift + Enter\n",
    "\n",
    "200/60"
   ]
  },
  {
   "cell_type": "markdown",
   "id": "2cc8f1b1-b4af-4fb7-8249-e3ac3c09aa2f",
   "metadata": {},
   "source": [
    "Exercise 10 -Insert a markdown cell to list Objectives. (3 pts)\n",
    "\n",
    "***Objectives:***\n",
    "\n",
    "- List popular languages for Data Science\n",
    "- list data science libraries\n",
    "- List Data Science tools in a table format\n"
   ]
  },
  {
   "cell_type": "markdown",
   "id": "76fd2c4d-f7e9-4b31-9396-4e05c3d21a99",
   "metadata": {},
   "source": [
    "Exercise 11 - Create a markdown cell to indicate the Author’s name. (2 pts)\n",
    "\n",
    "Author:\n",
    "## Andres Rondon"
   ]
  },
  {
   "cell_type": "markdown",
   "id": "45540686-7ac5-420e-a048-98d4bba372c8",
   "metadata": {
    "tags": []
   },
   "source": [
    "Exercise 12 - Share your notebook through GitHub (3 pts)\n",
    "\n",
    "GitHub Link: https://github.com/andyrondon/IBM-Data-Science-Professional-Certificate"
   ]
  },
  {
   "cell_type": "code",
   "execution_count": null,
   "id": "45b7de10-c615-4756-8554-37e8a710adb4",
   "metadata": {},
   "outputs": [],
   "source": [
    "Exercise 13 - Take a screenshot of the first page of the notebook. (1 pt)"
   ]
  }
 ],
 "metadata": {
  "kernelspec": {
   "display_name": "Python",
   "language": "python",
   "name": "conda-env-python-py"
  },
  "language_info": {
   "codemirror_mode": {
    "name": "ipython",
    "version": 3
   },
   "file_extension": ".py",
   "mimetype": "text/x-python",
   "name": "python",
   "nbconvert_exporter": "python",
   "pygments_lexer": "ipython3",
   "version": "3.7.12"
  }
 },
 "nbformat": 4,
 "nbformat_minor": 5
}
